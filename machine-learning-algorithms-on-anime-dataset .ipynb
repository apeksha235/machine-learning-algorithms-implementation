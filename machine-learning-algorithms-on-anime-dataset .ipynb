{
 "cells": [
  {
   "cell_type": "code",
   "execution_count": 1,
   "id": "3967f64d",
   "metadata": {
    "execution": {
     "iopub.execute_input": "2021-12-20T20:41:43.444790Z",
     "iopub.status.busy": "2021-12-20T20:41:43.444165Z",
     "iopub.status.idle": "2021-12-20T20:41:46.440093Z",
     "shell.execute_reply": "2021-12-20T20:41:46.439198Z",
     "shell.execute_reply.started": "2021-12-20T20:40:23.174605Z"
    },
    "papermill": {
     "duration": 3.034494,
     "end_time": "2021-12-20T20:41:46.440310",
     "exception": false,
     "start_time": "2021-12-20T20:41:43.405816",
     "status": "completed"
    },
    "tags": []
   },
   "outputs": [
    {
     "data": {
      "text/html": [
       "<style type='text/css'>\n",
       ".datatable table.frame { margin-bottom: 0; }\n",
       ".datatable table.frame thead { border-bottom: none; }\n",
       ".datatable table.frame tr.coltypes td {  color: #FFFFFF;  line-height: 6px;  padding: 0 0.5em;}\n",
       ".datatable .bool    { background: #DDDD99; }\n",
       ".datatable .object  { background: #565656; }\n",
       ".datatable .int     { background: #5D9E5D; }\n",
       ".datatable .float   { background: #4040CC; }\n",
       ".datatable .str     { background: #CC4040; }\n",
       ".datatable .time    { background: #40CC40; }\n",
       ".datatable .row_index {  background: var(--jp-border-color3);  border-right: 1px solid var(--jp-border-color0);  color: var(--jp-ui-font-color3);  font-size: 9px;}\n",
       ".datatable .frame tbody td { text-align: left; }\n",
       ".datatable .frame tr.coltypes .row_index {  background: var(--jp-border-color0);}\n",
       ".datatable th:nth-child(2) { padding-left: 12px; }\n",
       ".datatable .hellipsis {  color: var(--jp-cell-editor-border-color);}\n",
       ".datatable .vellipsis {  background: var(--jp-layout-color0);  color: var(--jp-cell-editor-border-color);}\n",
       ".datatable .na {  color: var(--jp-cell-editor-border-color);  font-size: 80%;}\n",
       ".datatable .sp {  opacity: 0.25;}\n",
       ".datatable .footer { font-size: 9px; }\n",
       ".datatable .frame_dimensions {  background: var(--jp-border-color3);  border-top: 1px solid var(--jp-border-color0);  color: var(--jp-ui-font-color3);  display: inline-block;  opacity: 0.6;  padding: 1px 10px 1px 5px;}\n",
       ".datatable .frame thead tr.colnames {  background-image: url('data:image/png;base64,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');  background-repeat: repeat-x;  background-size: 14px;  height: 28px;}\n",
       "</style>\n"
      ],
      "text/plain": [
       "<IPython.core.display.HTML object>"
      ]
     },
     "metadata": {},
     "output_type": "display_data"
    }
   ],
   "source": [
    "import numpy as np\n",
    "import pandas as pd\n",
    "from matplotlib import pyplot as plt\n",
    "from sklearn.linear_model import LinearRegression\n",
    "from sklearn.metrics import mean_squared_error, r2_score, accuracy_score\n",
    "from sklearn.metrics import classification_report, confusion_matrix\n",
    "from sklearn.model_selection import train_test_split\n",
    "from sklearn.preprocessing import StandardScaler\n",
    "from sklearn.tree import DecisionTreeRegressor\n",
    "from sklearn.ensemble import RandomForestRegressor, ExtraTreesRegressor, AdaBoostRegressor, BaggingRegressor, GradientBoostingRegressor\n",
    "from sklearn.datasets import make_regression\n",
    "from sklearn.linear_model import  TheilSenRegressor, RANSACRegressor, HuberRegressor, PassiveAggressiveRegressor, SGDRegressor\n",
    "from sklearn.gaussian_process import GaussianProcessRegressor\n",
    "from sklearn.svm import SVR, NuSVR\n",
    "from sklearn.neighbors import KNeighborsRegressor\n",
    "import lightgbm as lgb\n",
    "import xgboost as xgb\n",
    "from catboost import CatBoostRegressor\n",
    "from sklearn.kernel_ridge import KernelRidge\n",
    "from sklearn.cluster import KMeans"
   ]
  },
  {
   "cell_type": "markdown",
   "id": "498c98b6",
   "metadata": {
    "papermill": {
     "duration": 0.028997,
     "end_time": "2021-12-20T20:41:46.501267",
     "exception": false,
     "start_time": "2021-12-20T20:41:46.472270",
     "status": "completed"
    },
    "tags": []
   },
   "source": [
    "- This is the Top 100 anime rating dataset "
   ]
  },
  {
   "cell_type": "code",
   "execution_count": 2,
   "id": "e62d8a10",
   "metadata": {
    "execution": {
     "iopub.execute_input": "2021-12-20T20:41:46.565201Z",
     "iopub.status.busy": "2021-12-20T20:41:46.564526Z",
     "iopub.status.idle": "2021-12-20T20:41:46.601340Z",
     "shell.execute_reply": "2021-12-20T20:41:46.601795Z",
     "shell.execute_reply.started": "2021-12-20T20:40:23.186769Z"
    },
    "papermill": {
     "duration": 0.071247,
     "end_time": "2021-12-20T20:41:46.602014",
     "exception": false,
     "start_time": "2021-12-20T20:41:46.530767",
     "status": "completed"
    },
    "tags": []
   },
   "outputs": [
    {
     "data": {
      "text/html": [
       "<div>\n",
       "<style scoped>\n",
       "    .dataframe tbody tr th:only-of-type {\n",
       "        vertical-align: middle;\n",
       "    }\n",
       "\n",
       "    .dataframe tbody tr th {\n",
       "        vertical-align: top;\n",
       "    }\n",
       "\n",
       "    .dataframe thead th {\n",
       "        text-align: right;\n",
       "    }\n",
       "</style>\n",
       "<table border=\"1\" class=\"dataframe\">\n",
       "  <thead>\n",
       "    <tr style=\"text-align: right;\">\n",
       "      <th></th>\n",
       "      <th>Serial No.</th>\n",
       "      <th>Name</th>\n",
       "      <th>Links</th>\n",
       "      <th>Genre and Theme</th>\n",
       "      <th>No. of episodes</th>\n",
       "      <th>TV show</th>\n",
       "      <th>Genre: magic</th>\n",
       "      <th>Genre: adventure</th>\n",
       "      <th>Genre: psychological</th>\n",
       "      <th>Genre: comedy</th>\n",
       "      <th>Genre: drama</th>\n",
       "      <th>Genre: romance</th>\n",
       "      <th>Genre: mystery</th>\n",
       "      <th>Genre: action</th>\n",
       "      <th>Genre: fantasy</th>\n",
       "      <th>Rating</th>\n",
       "    </tr>\n",
       "  </thead>\n",
       "  <tbody>\n",
       "    <tr>\n",
       "      <th>0</th>\n",
       "      <td>1</td>\n",
       "      <td>Fullmetal Alchemist: Brotherhood (TV)</td>\n",
       "      <td>https://www.animenewsnetwork.com//encyclopedia...</td>\n",
       "      <td>adventure,comedy,drama,fantasy,thriller,alchem...</td>\n",
       "      <td>64</td>\n",
       "      <td>1</td>\n",
       "      <td>0</td>\n",
       "      <td>1</td>\n",
       "      <td>0</td>\n",
       "      <td>1</td>\n",
       "      <td>1</td>\n",
       "      <td>0</td>\n",
       "      <td>0</td>\n",
       "      <td>0</td>\n",
       "      <td>1</td>\n",
       "      <td>9.09</td>\n",
       "    </tr>\n",
       "    <tr>\n",
       "      <th>1</th>\n",
       "      <td>2</td>\n",
       "      <td>Steins;Gate (TV)</td>\n",
       "      <td>https://www.animenewsnetwork.com//encyclopedia...</td>\n",
       "      <td>adventure,comedy,drama,mystery,psychological,r...</td>\n",
       "      <td>24</td>\n",
       "      <td>1</td>\n",
       "      <td>0</td>\n",
       "      <td>1</td>\n",
       "      <td>1</td>\n",
       "      <td>1</td>\n",
       "      <td>1</td>\n",
       "      <td>1</td>\n",
       "      <td>1</td>\n",
       "      <td>0</td>\n",
       "      <td>0</td>\n",
       "      <td>9.04</td>\n",
       "    </tr>\n",
       "    <tr>\n",
       "      <th>2</th>\n",
       "      <td>3</td>\n",
       "      <td>Clannad After Story (TV)</td>\n",
       "      <td>https://www.animenewsnetwork.com//encyclopedia...</td>\n",
       "      <td>comedy,drama,psychological,romance,supernatura...</td>\n",
       "      <td>25</td>\n",
       "      <td>1</td>\n",
       "      <td>0</td>\n",
       "      <td>0</td>\n",
       "      <td>1</td>\n",
       "      <td>1</td>\n",
       "      <td>1</td>\n",
       "      <td>1</td>\n",
       "      <td>0</td>\n",
       "      <td>0</td>\n",
       "      <td>0</td>\n",
       "      <td>9.04</td>\n",
       "    </tr>\n",
       "    <tr>\n",
       "      <th>3</th>\n",
       "      <td>4</td>\n",
       "      <td>your name. (movie)</td>\n",
       "      <td>https://www.animenewsnetwork.com//encyclopedia...</td>\n",
       "      <td>comedy,drama,romance,supernatural,amnesia,body...</td>\n",
       "      <td>1</td>\n",
       "      <td>0</td>\n",
       "      <td>0</td>\n",
       "      <td>0</td>\n",
       "      <td>0</td>\n",
       "      <td>1</td>\n",
       "      <td>1</td>\n",
       "      <td>1</td>\n",
       "      <td>0</td>\n",
       "      <td>0</td>\n",
       "      <td>0</td>\n",
       "      <td>9.02</td>\n",
       "    </tr>\n",
       "    <tr>\n",
       "      <th>4</th>\n",
       "      <td>5</td>\n",
       "      <td>Rurouni Kenshin: Trust &amp;amp; Betrayal (OAV)</td>\n",
       "      <td>https://www.animenewsnetwork.com//encyclopedia...</td>\n",
       "      <td>action,drama,romance,historical,revenge,samura...</td>\n",
       "      <td>4</td>\n",
       "      <td>1</td>\n",
       "      <td>0</td>\n",
       "      <td>0</td>\n",
       "      <td>0</td>\n",
       "      <td>0</td>\n",
       "      <td>1</td>\n",
       "      <td>1</td>\n",
       "      <td>0</td>\n",
       "      <td>1</td>\n",
       "      <td>0</td>\n",
       "      <td>8.97</td>\n",
       "    </tr>\n",
       "  </tbody>\n",
       "</table>\n",
       "</div>"
      ],
      "text/plain": [
       "   Serial No.                                         Name  \\\n",
       "0           1        Fullmetal Alchemist: Brotherhood (TV)   \n",
       "1           2                             Steins;Gate (TV)   \n",
       "2           3                     Clannad After Story (TV)   \n",
       "3           4                           your name. (movie)   \n",
       "4           5  Rurouni Kenshin: Trust &amp; Betrayal (OAV)   \n",
       "\n",
       "                                               Links  \\\n",
       "0  https://www.animenewsnetwork.com//encyclopedia...   \n",
       "1  https://www.animenewsnetwork.com//encyclopedia...   \n",
       "2  https://www.animenewsnetwork.com//encyclopedia...   \n",
       "3  https://www.animenewsnetwork.com//encyclopedia...   \n",
       "4  https://www.animenewsnetwork.com//encyclopedia...   \n",
       "\n",
       "                                     Genre and Theme  No. of episodes  \\\n",
       "0  adventure,comedy,drama,fantasy,thriller,alchem...               64   \n",
       "1  adventure,comedy,drama,mystery,psychological,r...               24   \n",
       "2  comedy,drama,psychological,romance,supernatura...               25   \n",
       "3  comedy,drama,romance,supernatural,amnesia,body...                1   \n",
       "4  action,drama,romance,historical,revenge,samura...                4   \n",
       "\n",
       "   TV show  Genre: magic  Genre: adventure  Genre: psychological  \\\n",
       "0        1             0                 1                     0   \n",
       "1        1             0                 1                     1   \n",
       "2        1             0                 0                     1   \n",
       "3        0             0                 0                     0   \n",
       "4        1             0                 0                     0   \n",
       "\n",
       "   Genre: comedy  Genre: drama  Genre: romance  Genre: mystery  Genre: action  \\\n",
       "0              1             1               0               0              0   \n",
       "1              1             1               1               1              0   \n",
       "2              1             1               1               0              0   \n",
       "3              1             1               1               0              0   \n",
       "4              0             1               1               0              1   \n",
       "\n",
       "   Genre: fantasy  Rating  \n",
       "0               1    9.09  \n",
       "1               0    9.04  \n",
       "2               0    9.04  \n",
       "3               0    9.02  \n",
       "4               0    8.97  "
      ]
     },
     "execution_count": 2,
     "metadata": {},
     "output_type": "execute_result"
    }
   ],
   "source": [
    "df = pd.read_csv('../input/top-100-anime-dataset-ratings/final_anime_dataset.csv')\n",
    "df.head()"
   ]
  },
  {
   "cell_type": "markdown",
   "id": "5444ea52",
   "metadata": {
    "papermill": {
     "duration": 0.029626,
     "end_time": "2021-12-20T20:41:46.661817",
     "exception": false,
     "start_time": "2021-12-20T20:41:46.632191",
     "status": "completed"
    },
    "tags": []
   },
   "source": [
    " I have used ```No. of episodes```, ```TV show``` and the rest of the Genre categories as the input features, with ```Rating``` as the output variable."
   ]
  },
  {
   "cell_type": "markdown",
   "id": "568806e5",
   "metadata": {
    "papermill": {
     "duration": 0.029576,
     "end_time": "2021-12-20T20:41:46.722554",
     "exception": false,
     "start_time": "2021-12-20T20:41:46.692978",
     "status": "completed"
    },
    "tags": []
   },
   "source": [
    " Here I have created a function ```reg_func``` to make it easier to implement the machine learning algorithms"
   ]
  },
  {
   "cell_type": "code",
   "execution_count": 3,
   "id": "7d43105c",
   "metadata": {
    "execution": {
     "iopub.execute_input": "2021-12-20T20:41:46.786501Z",
     "iopub.status.busy": "2021-12-20T20:41:46.785539Z",
     "iopub.status.idle": "2021-12-20T20:41:46.801995Z",
     "shell.execute_reply": "2021-12-20T20:41:46.802523Z",
     "shell.execute_reply.started": "2021-12-20T20:40:23.228430Z"
    },
    "papermill": {
     "duration": 0.050031,
     "end_time": "2021-12-20T20:41:46.802696",
     "exception": false,
     "start_time": "2021-12-20T20:41:46.752665",
     "status": "completed"
    },
    "tags": []
   },
   "outputs": [],
   "source": [
    "X = df[['TV show','Genre: magic', 'Genre: adventure', 'Genre: psychological',\n",
    "       'Genre: comedy', 'Genre: drama', 'Genre: romance', 'Genre: mystery',\n",
    "       'Genre: action', 'Genre: fantasy']]\n",
    "Y = df['Rating']\n",
    "x_train, x_test,y_train,y_test = train_test_split(X,Y,test_size =0.2)\n",
    "def reg_func(model):\n",
    "       model.fit(x_train,y_train)\n",
    "       y_pred=model.predict(x_test)\n",
    "       score=mean_squared_error(y_test,y_pred)\n",
    "       print('Mean Squared Error: '+str(score))\n"
   ]
  },
  {
   "cell_type": "markdown",
   "id": "6cb3c56b",
   "metadata": {
    "papermill": {
     "duration": 0.029391,
     "end_time": "2021-12-20T20:41:46.863385",
     "exception": false,
     "start_time": "2021-12-20T20:41:46.833994",
     "status": "completed"
    },
    "tags": []
   },
   "source": [
    " ## Linear Regression"
   ]
  },
  {
   "cell_type": "code",
   "execution_count": 4,
   "id": "66edce1c",
   "metadata": {
    "execution": {
     "iopub.execute_input": "2021-12-20T20:41:46.926881Z",
     "iopub.status.busy": "2021-12-20T20:41:46.925874Z",
     "iopub.status.idle": "2021-12-20T20:41:46.952695Z",
     "shell.execute_reply": "2021-12-20T20:41:46.952149Z",
     "shell.execute_reply.started": "2021-12-20T20:40:23.241885Z"
    },
    "papermill": {
     "duration": 0.059652,
     "end_time": "2021-12-20T20:41:46.952833",
     "exception": false,
     "start_time": "2021-12-20T20:41:46.893181",
     "status": "completed"
    },
    "tags": []
   },
   "outputs": [
    {
     "name": "stdout",
     "output_type": "stream",
     "text": [
      "Mean Squared Error: 0.031068867559503905\n"
     ]
    }
   ],
   "source": [
    "\n",
    "model = LinearRegression()\n",
    "reg_func(model)\n"
   ]
  },
  {
   "cell_type": "markdown",
   "id": "059446f6",
   "metadata": {
    "papermill": {
     "duration": 0.029953,
     "end_time": "2021-12-20T20:41:47.013009",
     "exception": false,
     "start_time": "2021-12-20T20:41:46.983056",
     "status": "completed"
    },
    "tags": []
   },
   "source": [
    " ## TheilSen Regressor"
   ]
  },
  {
   "cell_type": "code",
   "execution_count": 5,
   "id": "0778dae0",
   "metadata": {
    "execution": {
     "iopub.execute_input": "2021-12-20T20:41:47.180338Z",
     "iopub.status.busy": "2021-12-20T20:41:47.106343Z",
     "iopub.status.idle": "2021-12-20T20:41:47.794649Z",
     "shell.execute_reply": "2021-12-20T20:41:47.795179Z",
     "shell.execute_reply.started": "2021-12-20T20:40:23.268102Z"
    },
    "papermill": {
     "duration": 0.751358,
     "end_time": "2021-12-20T20:41:47.795363",
     "exception": false,
     "start_time": "2021-12-20T20:41:47.044005",
     "status": "completed"
    },
    "tags": []
   },
   "outputs": [
    {
     "name": "stdout",
     "output_type": "stream",
     "text": [
      "Mean Squared Error: 0.035694138446864684\n"
     ]
    }
   ],
   "source": [
    "model = TheilSenRegressor()\n",
    "reg_func(model)"
   ]
  },
  {
   "cell_type": "markdown",
   "id": "dee7119c",
   "metadata": {
    "papermill": {
     "duration": 0.030195,
     "end_time": "2021-12-20T20:41:47.856216",
     "exception": false,
     "start_time": "2021-12-20T20:41:47.826021",
     "status": "completed"
    },
    "tags": []
   },
   "source": [
    " ## RANSAC Regressor"
   ]
  },
  {
   "cell_type": "code",
   "execution_count": 6,
   "id": "2babcdf5",
   "metadata": {
    "execution": {
     "iopub.execute_input": "2021-12-20T20:41:47.924284Z",
     "iopub.status.busy": "2021-12-20T20:41:47.923269Z",
     "iopub.status.idle": "2021-12-20T20:41:47.984526Z",
     "shell.execute_reply": "2021-12-20T20:41:47.985019Z",
     "shell.execute_reply.started": "2021-12-20T20:40:23.976699Z"
    },
    "papermill": {
     "duration": 0.098569,
     "end_time": "2021-12-20T20:41:47.985215",
     "exception": false,
     "start_time": "2021-12-20T20:41:47.886646",
     "status": "completed"
    },
    "tags": []
   },
   "outputs": [
    {
     "name": "stdout",
     "output_type": "stream",
     "text": [
      "Mean Squared Error: 0.04463276119848668\n"
     ]
    }
   ],
   "source": [
    "model = RANSACRegressor()\n",
    "reg_func(model)"
   ]
  },
  {
   "cell_type": "markdown",
   "id": "4fb550e8",
   "metadata": {
    "papermill": {
     "duration": 0.030771,
     "end_time": "2021-12-20T20:41:48.046900",
     "exception": false,
     "start_time": "2021-12-20T20:41:48.016129",
     "status": "completed"
    },
    "tags": []
   },
   "source": [
    " ## Huber Regressor"
   ]
  },
  {
   "cell_type": "code",
   "execution_count": 7,
   "id": "c00a037e",
   "metadata": {
    "execution": {
     "iopub.execute_input": "2021-12-20T20:41:48.112911Z",
     "iopub.status.busy": "2021-12-20T20:41:48.112254Z",
     "iopub.status.idle": "2021-12-20T20:41:48.130625Z",
     "shell.execute_reply": "2021-12-20T20:41:48.131141Z",
     "shell.execute_reply.started": "2021-12-20T20:40:24.045097Z"
    },
    "papermill": {
     "duration": 0.053222,
     "end_time": "2021-12-20T20:41:48.131313",
     "exception": false,
     "start_time": "2021-12-20T20:41:48.078091",
     "status": "completed"
    },
    "tags": []
   },
   "outputs": [
    {
     "name": "stdout",
     "output_type": "stream",
     "text": [
      "Mean Squared Error: 0.033546241402565784\n"
     ]
    }
   ],
   "source": [
    "model = HuberRegressor()\n",
    "reg_func(model)"
   ]
  },
  {
   "cell_type": "markdown",
   "id": "28a4175d",
   "metadata": {
    "papermill": {
     "duration": 0.030946,
     "end_time": "2021-12-20T20:41:48.193424",
     "exception": false,
     "start_time": "2021-12-20T20:41:48.162478",
     "status": "completed"
    },
    "tags": []
   },
   "source": [
    " ## Passive Aggressive Regressor"
   ]
  },
  {
   "cell_type": "code",
   "execution_count": 8,
   "id": "391437dd",
   "metadata": {
    "execution": {
     "iopub.execute_input": "2021-12-20T20:41:48.258750Z",
     "iopub.status.busy": "2021-12-20T20:41:48.258143Z",
     "iopub.status.idle": "2021-12-20T20:41:48.267618Z",
     "shell.execute_reply": "2021-12-20T20:41:48.268142Z",
     "shell.execute_reply.started": "2021-12-20T20:40:24.069257Z"
    },
    "papermill": {
     "duration": 0.043688,
     "end_time": "2021-12-20T20:41:48.268311",
     "exception": false,
     "start_time": "2021-12-20T20:41:48.224623",
     "status": "completed"
    },
    "tags": []
   },
   "outputs": [
    {
     "name": "stdout",
     "output_type": "stream",
     "text": [
      "Mean Squared Error: 0.03978556004764151\n"
     ]
    }
   ],
   "source": [
    "model=PassiveAggressiveRegressor()\n",
    "reg_func(model)"
   ]
  },
  {
   "cell_type": "markdown",
   "id": "90f7f1d0",
   "metadata": {
    "papermill": {
     "duration": 0.031476,
     "end_time": "2021-12-20T20:41:48.331763",
     "exception": false,
     "start_time": "2021-12-20T20:41:48.300287",
     "status": "completed"
    },
    "tags": []
   },
   "source": [
    " ## Gaussian Process Regressor"
   ]
  },
  {
   "cell_type": "code",
   "execution_count": 9,
   "id": "c2e77105",
   "metadata": {
    "execution": {
     "iopub.execute_input": "2021-12-20T20:41:48.398431Z",
     "iopub.status.busy": "2021-12-20T20:41:48.397433Z",
     "iopub.status.idle": "2021-12-20T20:41:48.415885Z",
     "shell.execute_reply": "2021-12-20T20:41:48.416788Z",
     "shell.execute_reply.started": "2021-12-20T20:40:24.080002Z"
    },
    "papermill": {
     "duration": 0.053893,
     "end_time": "2021-12-20T20:41:48.417080",
     "exception": false,
     "start_time": "2021-12-20T20:41:48.363187",
     "status": "completed"
    },
    "tags": []
   },
   "outputs": [
    {
     "name": "stdout",
     "output_type": "stream",
     "text": [
      "Mean Squared Error: 0.03658629577489439\n"
     ]
    }
   ],
   "source": [
    "model = GaussianProcessRegressor(normalize_y=True)\n",
    "reg_func(model)"
   ]
  },
  {
   "cell_type": "markdown",
   "id": "a867792c",
   "metadata": {
    "papermill": {
     "duration": 0.056121,
     "end_time": "2021-12-20T20:41:48.531270",
     "exception": false,
     "start_time": "2021-12-20T20:41:48.475149",
     "status": "completed"
    },
    "tags": []
   },
   "source": [
    " ## Support Vector Machine"
   ]
  },
  {
   "cell_type": "code",
   "execution_count": 10,
   "id": "7000ee3c",
   "metadata": {
    "execution": {
     "iopub.execute_input": "2021-12-20T20:41:48.602014Z",
     "iopub.status.busy": "2021-12-20T20:41:48.601378Z",
     "iopub.status.idle": "2021-12-20T20:41:48.606787Z",
     "shell.execute_reply": "2021-12-20T20:41:48.607408Z",
     "shell.execute_reply.started": "2021-12-20T20:40:24.113235Z"
    },
    "papermill": {
     "duration": 0.043899,
     "end_time": "2021-12-20T20:41:48.607572",
     "exception": false,
     "start_time": "2021-12-20T20:41:48.563673",
     "status": "completed"
    },
    "tags": []
   },
   "outputs": [
    {
     "name": "stdout",
     "output_type": "stream",
     "text": [
      "Mean Squared Error: 0.03104432923131579\n"
     ]
    }
   ],
   "source": [
    "model = SVR()\n",
    "reg_func(model)"
   ]
  },
  {
   "cell_type": "markdown",
   "id": "1e24e80f",
   "metadata": {
    "papermill": {
     "duration": 0.031812,
     "end_time": "2021-12-20T20:41:48.671632",
     "exception": false,
     "start_time": "2021-12-20T20:41:48.639820",
     "status": "completed"
    },
    "tags": []
   },
   "source": [
    " ## NU Support Vector Regression"
   ]
  },
  {
   "cell_type": "code",
   "execution_count": 11,
   "id": "f9aa8dc0",
   "metadata": {
    "execution": {
     "iopub.execute_input": "2021-12-20T20:41:48.741289Z",
     "iopub.status.busy": "2021-12-20T20:41:48.738195Z",
     "iopub.status.idle": "2021-12-20T20:41:48.748958Z",
     "shell.execute_reply": "2021-12-20T20:41:48.749463Z",
     "shell.execute_reply.started": "2021-12-20T20:40:24.129730Z"
    },
    "papermill": {
     "duration": 0.045856,
     "end_time": "2021-12-20T20:41:48.749646",
     "exception": false,
     "start_time": "2021-12-20T20:41:48.703790",
     "status": "completed"
    },
    "tags": []
   },
   "outputs": [
    {
     "name": "stdout",
     "output_type": "stream",
     "text": [
      "Mean Squared Error: 0.025143414110868723\n"
     ]
    }
   ],
   "source": [
    "model = NuSVR()\n",
    "reg_func(model)"
   ]
  },
  {
   "cell_type": "markdown",
   "id": "fce28565",
   "metadata": {
    "papermill": {
     "duration": 0.032423,
     "end_time": "2021-12-20T20:41:48.815592",
     "exception": false,
     "start_time": "2021-12-20T20:41:48.783169",
     "status": "completed"
    },
    "tags": []
   },
   "source": [
    " ## KNNeighbours as Regressor"
   ]
  },
  {
   "cell_type": "code",
   "execution_count": 12,
   "id": "99f30f96",
   "metadata": {
    "execution": {
     "iopub.execute_input": "2021-12-20T20:41:48.883967Z",
     "iopub.status.busy": "2021-12-20T20:41:48.883106Z",
     "iopub.status.idle": "2021-12-20T20:41:48.896160Z",
     "shell.execute_reply": "2021-12-20T20:41:48.895138Z",
     "shell.execute_reply.started": "2021-12-20T20:40:24.150369Z"
    },
    "papermill": {
     "duration": 0.048359,
     "end_time": "2021-12-20T20:41:48.896427",
     "exception": false,
     "start_time": "2021-12-20T20:41:48.848068",
     "status": "completed"
    },
    "tags": []
   },
   "outputs": [
    {
     "name": "stdout",
     "output_type": "stream",
     "text": [
      "Mean Squared Error: 0.034004399999999914\n"
     ]
    }
   ],
   "source": [
    "model= KNeighborsRegressor(n_neighbors=5)\n",
    "reg_func(model)"
   ]
  },
  {
   "cell_type": "markdown",
   "id": "ce18e225",
   "metadata": {
    "papermill": {
     "duration": 0.032823,
     "end_time": "2021-12-20T20:41:48.963066",
     "exception": false,
     "start_time": "2021-12-20T20:41:48.930243",
     "status": "completed"
    },
    "tags": []
   },
   "source": [
    " ## Stochastic Gradient Descent"
   ]
  },
  {
   "cell_type": "code",
   "execution_count": 13,
   "id": "dad48c3b",
   "metadata": {
    "execution": {
     "iopub.execute_input": "2021-12-20T20:41:49.031574Z",
     "iopub.status.busy": "2021-12-20T20:41:49.030967Z",
     "iopub.status.idle": "2021-12-20T20:41:49.048092Z",
     "shell.execute_reply": "2021-12-20T20:41:49.047552Z",
     "shell.execute_reply.started": "2021-12-20T20:40:24.168243Z"
    },
    "papermill": {
     "duration": 0.052461,
     "end_time": "2021-12-20T20:41:49.048232",
     "exception": false,
     "start_time": "2021-12-20T20:41:48.995771",
     "status": "completed"
    },
    "tags": []
   },
   "outputs": [
    {
     "name": "stdout",
     "output_type": "stream",
     "text": [
      "Mean Squared Error: 0.03349339888197998\n"
     ]
    }
   ],
   "source": [
    "model= SGDRegressor(n_iter_no_change=750)\n",
    "reg_func(model)"
   ]
  },
  {
   "cell_type": "markdown",
   "id": "a89fb6cd",
   "metadata": {
    "papermill": {
     "duration": 0.032906,
     "end_time": "2021-12-20T20:41:49.114911",
     "exception": false,
     "start_time": "2021-12-20T20:41:49.082005",
     "status": "completed"
    },
    "tags": []
   },
   "source": [
    " ## Kernal Ridge Regression"
   ]
  },
  {
   "cell_type": "code",
   "execution_count": 14,
   "id": "34d3f247",
   "metadata": {
    "execution": {
     "iopub.execute_input": "2021-12-20T20:41:49.183790Z",
     "iopub.status.busy": "2021-12-20T20:41:49.183158Z",
     "iopub.status.idle": "2021-12-20T20:41:49.198980Z",
     "shell.execute_reply": "2021-12-20T20:41:49.197936Z",
     "shell.execute_reply.started": "2021-12-20T20:40:24.205045Z"
    },
    "papermill": {
     "duration": 0.051441,
     "end_time": "2021-12-20T20:41:49.199209",
     "exception": false,
     "start_time": "2021-12-20T20:41:49.147768",
     "status": "completed"
    },
    "tags": []
   },
   "outputs": [
    {
     "name": "stdout",
     "output_type": "stream",
     "text": [
      "Mean Squared Error: 0.03099610902633882\n"
     ]
    }
   ],
   "source": [
    "model= KernelRidge(alpha=0.6, kernel='polynomial', degree=2, coef0=2.5)\n",
    "reg_func(model)"
   ]
  },
  {
   "cell_type": "markdown",
   "id": "b9dadfaf",
   "metadata": {
    "papermill": {
     "duration": 0.056328,
     "end_time": "2021-12-20T20:41:49.316214",
     "exception": false,
     "start_time": "2021-12-20T20:41:49.259886",
     "status": "completed"
    },
    "tags": []
   },
   "source": [
    " ## Decision Tree"
   ]
  },
  {
   "cell_type": "code",
   "execution_count": 15,
   "id": "29e2c4f4",
   "metadata": {
    "execution": {
     "iopub.execute_input": "2021-12-20T20:41:49.393822Z",
     "iopub.status.busy": "2021-12-20T20:41:49.393197Z",
     "iopub.status.idle": "2021-12-20T20:41:49.399543Z",
     "shell.execute_reply": "2021-12-20T20:41:49.400202Z",
     "shell.execute_reply.started": "2021-12-20T20:40:24.219030Z"
    },
    "papermill": {
     "duration": 0.050462,
     "end_time": "2021-12-20T20:41:49.400377",
     "exception": false,
     "start_time": "2021-12-20T20:41:49.349915",
     "status": "completed"
    },
    "tags": []
   },
   "outputs": [
    {
     "name": "stdout",
     "output_type": "stream",
     "text": [
      "Mean Squared Error: 0.03857571111111104\n"
     ]
    }
   ],
   "source": [
    "model=DecisionTreeRegressor(random_state=0)\n",
    "reg_func(model)"
   ]
  },
  {
   "cell_type": "markdown",
   "id": "d4f1eaf1",
   "metadata": {
    "papermill": {
     "duration": 0.033503,
     "end_time": "2021-12-20T20:41:49.467660",
     "exception": false,
     "start_time": "2021-12-20T20:41:49.434157",
     "status": "completed"
    },
    "tags": []
   },
   "source": [
    " ## Random Forest"
   ]
  },
  {
   "cell_type": "code",
   "execution_count": 16,
   "id": "2ddc204c",
   "metadata": {
    "execution": {
     "iopub.execute_input": "2021-12-20T20:41:49.547047Z",
     "iopub.status.busy": "2021-12-20T20:41:49.541747Z",
     "iopub.status.idle": "2021-12-20T20:41:49.587004Z",
     "shell.execute_reply": "2021-12-20T20:41:49.586201Z",
     "shell.execute_reply.started": "2021-12-20T20:40:24.239972Z"
    },
    "papermill": {
     "duration": 0.085712,
     "end_time": "2021-12-20T20:41:49.587198",
     "exception": false,
     "start_time": "2021-12-20T20:41:49.501486",
     "status": "completed"
    },
    "tags": []
   },
   "outputs": [
    {
     "name": "stdout",
     "output_type": "stream",
     "text": [
      "Mean Squared Error: 0.035206520909287865\n"
     ]
    }
   ],
   "source": [
    "\n",
    "regressor = RandomForestRegressor(n_estimators = 20, random_state = 0)\n",
    "reg_func(regressor)\n"
   ]
  },
  {
   "cell_type": "markdown",
   "id": "83a2ef7d",
   "metadata": {
    "papermill": {
     "duration": 0.033866,
     "end_time": "2021-12-20T20:41:49.656088",
     "exception": false,
     "start_time": "2021-12-20T20:41:49.622222",
     "status": "completed"
    },
    "tags": []
   },
   "source": [
    " ## Extra Trees"
   ]
  },
  {
   "cell_type": "code",
   "execution_count": 17,
   "id": "1e8214b6",
   "metadata": {
    "execution": {
     "iopub.execute_input": "2021-12-20T20:41:49.731407Z",
     "iopub.status.busy": "2021-12-20T20:41:49.730703Z",
     "iopub.status.idle": "2021-12-20T20:41:49.763585Z",
     "shell.execute_reply": "2021-12-20T20:41:49.762905Z",
     "shell.execute_reply.started": "2021-12-20T20:40:24.326022Z"
    },
    "papermill": {
     "duration": 0.073522,
     "end_time": "2021-12-20T20:41:49.763726",
     "exception": false,
     "start_time": "2021-12-20T20:41:49.690204",
     "status": "completed"
    },
    "tags": []
   },
   "outputs": [
    {
     "name": "stdout",
     "output_type": "stream",
     "text": [
      "Mean Squared Error: 0.03857571111111129\n"
     ]
    }
   ],
   "source": [
    "model= ExtraTreesRegressor(n_estimators=20,random_state=0)\n",
    "reg_func(model)"
   ]
  },
  {
   "cell_type": "markdown",
   "id": "dd8e4a69",
   "metadata": {
    "papermill": {
     "duration": 0.034124,
     "end_time": "2021-12-20T20:41:49.832581",
     "exception": false,
     "start_time": "2021-12-20T20:41:49.798457",
     "status": "completed"
    },
    "tags": []
   },
   "source": [
    " ## Bagging Regressor"
   ]
  },
  {
   "cell_type": "code",
   "execution_count": 18,
   "id": "9a9678b2",
   "metadata": {
    "execution": {
     "iopub.execute_input": "2021-12-20T20:41:49.904365Z",
     "iopub.status.busy": "2021-12-20T20:41:49.903725Z",
     "iopub.status.idle": "2021-12-20T20:41:49.957635Z",
     "shell.execute_reply": "2021-12-20T20:41:49.958239Z",
     "shell.execute_reply.started": "2021-12-20T20:40:24.369446Z"
    },
    "papermill": {
     "duration": 0.091631,
     "end_time": "2021-12-20T20:41:49.958428",
     "exception": false,
     "start_time": "2021-12-20T20:41:49.866797",
     "status": "completed"
    },
    "tags": []
   },
   "outputs": [
    {
     "name": "stdout",
     "output_type": "stream",
     "text": [
      "Mean Squared Error: 0.034309921357204565\n"
     ]
    }
   ],
   "source": [
    "model= BaggingRegressor(n_estimators=20,random_state=0)\n",
    "reg_func(model)"
   ]
  },
  {
   "cell_type": "markdown",
   "id": "13cf15b2",
   "metadata": {
    "papermill": {
     "duration": 0.038728,
     "end_time": "2021-12-20T20:41:50.031735",
     "exception": false,
     "start_time": "2021-12-20T20:41:49.993007",
     "status": "completed"
    },
    "tags": []
   },
   "source": [
    "## Boosting Techniques"
   ]
  },
  {
   "cell_type": "markdown",
   "id": "a67cfc69",
   "metadata": {
    "papermill": {
     "duration": 0.034311,
     "end_time": "2021-12-20T20:41:50.102227",
     "exception": false,
     "start_time": "2021-12-20T20:41:50.067916",
     "status": "completed"
    },
    "tags": []
   },
   "source": [
    " ## ADABoost Regressor"
   ]
  },
  {
   "cell_type": "code",
   "execution_count": 19,
   "id": "9b631c64",
   "metadata": {
    "execution": {
     "iopub.execute_input": "2021-12-20T20:41:50.174832Z",
     "iopub.status.busy": "2021-12-20T20:41:50.174174Z",
     "iopub.status.idle": "2021-12-20T20:41:50.210827Z",
     "shell.execute_reply": "2021-12-20T20:41:50.211384Z",
     "shell.execute_reply.started": "2021-12-20T20:40:24.431936Z"
    },
    "papermill": {
     "duration": 0.074696,
     "end_time": "2021-12-20T20:41:50.211557",
     "exception": false,
     "start_time": "2021-12-20T20:41:50.136861",
     "status": "completed"
    },
    "tags": []
   },
   "outputs": [
    {
     "name": "stdout",
     "output_type": "stream",
     "text": [
      "Mean Squared Error: 0.035618624394682\n"
     ]
    }
   ],
   "source": [
    "model=AdaBoostRegressor(n_estimators=20,random_state=0)\n",
    "reg_func(model)"
   ]
  },
  {
   "cell_type": "markdown",
   "id": "6eec6cbc",
   "metadata": {
    "papermill": {
     "duration": 0.034539,
     "end_time": "2021-12-20T20:41:50.281082",
     "exception": false,
     "start_time": "2021-12-20T20:41:50.246543",
     "status": "completed"
    },
    "tags": []
   },
   "source": [
    " ## XGBoost"
   ]
  },
  {
   "cell_type": "code",
   "execution_count": 20,
   "id": "3997bf89",
   "metadata": {
    "execution": {
     "iopub.execute_input": "2021-12-20T20:41:50.355353Z",
     "iopub.status.busy": "2021-12-20T20:41:50.354351Z",
     "iopub.status.idle": "2021-12-20T20:41:50.440500Z",
     "shell.execute_reply": "2021-12-20T20:41:50.441484Z",
     "shell.execute_reply.started": "2021-12-20T20:40:24.475623Z"
    },
    "papermill": {
     "duration": 0.125453,
     "end_time": "2021-12-20T20:41:50.441681",
     "exception": false,
     "start_time": "2021-12-20T20:41:50.316228",
     "status": "completed"
    },
    "tags": []
   },
   "outputs": [
    {
     "name": "stdout",
     "output_type": "stream",
     "text": [
      "Mean Squared Error: 0.03353634964561554\n"
     ]
    }
   ],
   "source": [
    "xgb_r = xgb.XGBRegressor(n_estimators = 20, random_state= 0,gamma=1,subsample=0.1)\n",
    "reg_func(xgb_r)\n"
   ]
  },
  {
   "cell_type": "markdown",
   "id": "bddc08a2",
   "metadata": {
    "papermill": {
     "duration": 0.034997,
     "end_time": "2021-12-20T20:41:50.513973",
     "exception": false,
     "start_time": "2021-12-20T20:41:50.478976",
     "status": "completed"
    },
    "tags": []
   },
   "source": [
    " ## Gradient Boosting"
   ]
  },
  {
   "cell_type": "code",
   "execution_count": 21,
   "id": "b7cd5b97",
   "metadata": {
    "execution": {
     "iopub.execute_input": "2021-12-20T20:41:50.591900Z",
     "iopub.status.busy": "2021-12-20T20:41:50.590929Z",
     "iopub.status.idle": "2021-12-20T20:41:50.604025Z",
     "shell.execute_reply": "2021-12-20T20:41:50.604916Z",
     "shell.execute_reply.started": "2021-12-20T20:40:24.554881Z"
    },
    "papermill": {
     "duration": 0.055436,
     "end_time": "2021-12-20T20:41:50.605144",
     "exception": false,
     "start_time": "2021-12-20T20:41:50.549708",
     "status": "completed"
    },
    "tags": []
   },
   "outputs": [
    {
     "name": "stdout",
     "output_type": "stream",
     "text": [
      "Mean Squared Error: 0.033326103822843275\n"
     ]
    }
   ],
   "source": [
    "model=GradientBoostingRegressor(n_estimators = 20, random_state= 0,learning_rate=0.1)\n",
    "reg_func(model)"
   ]
  },
  {
   "cell_type": "markdown",
   "id": "35e0fce1",
   "metadata": {
    "papermill": {
     "duration": 0.035563,
     "end_time": "2021-12-20T20:41:50.677339",
     "exception": false,
     "start_time": "2021-12-20T20:41:50.641776",
     "status": "completed"
    },
    "tags": []
   },
   "source": [
    " ## Evaluating Algorithms"
   ]
  },
  {
   "cell_type": "markdown",
   "id": "4b99cd15",
   "metadata": {
    "papermill": {
     "duration": 0.03538,
     "end_time": "2021-12-20T20:41:50.748488",
     "exception": false,
     "start_time": "2021-12-20T20:41:50.713108",
     "status": "completed"
    },
    "tags": []
   },
   "source": [
    " - As shown above ``` Mean Squared Error``` has one of the lowest values in the Boosting techniques and Linear regression models. Hence they are the best working model for this dataset.\n",
    " - The highest loss is mainly witnessed in bagging trees since the input data for prediction contains 95% categorical features this results in sparse data reducing the efficiency of these tree based models."
   ]
  },
  {
   "cell_type": "markdown",
   "id": "de91f90a",
   "metadata": {
    "papermill": {
     "duration": 0.035787,
     "end_time": "2021-12-20T20:41:50.820204",
     "exception": false,
     "start_time": "2021-12-20T20:41:50.784417",
     "status": "completed"
    },
    "tags": []
   },
   "source": []
  }
 ],
 "metadata": {
  "kernelspec": {
   "display_name": "Python 3",
   "language": "python",
   "name": "python3"
  },
  "language_info": {
   "codemirror_mode": {
    "name": "ipython",
    "version": 3
   },
   "file_extension": ".py",
   "mimetype": "text/x-python",
   "name": "python",
   "nbconvert_exporter": "python",
   "pygments_lexer": "ipython3",
   "version": "3.7.12"
  },
  "papermill": {
   "default_parameters": {},
   "duration": 18.338763,
   "end_time": "2021-12-20T20:41:51.667489",
   "environment_variables": {},
   "exception": null,
   "input_path": "__notebook__.ipynb",
   "output_path": "__notebook__.ipynb",
   "parameters": {},
   "start_time": "2021-12-20T20:41:33.328726",
   "version": "2.3.3"
  }
 },
 "nbformat": 4,
 "nbformat_minor": 5
}
